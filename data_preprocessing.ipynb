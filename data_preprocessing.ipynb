{
 "cells": [
  {
   "cell_type": "code",
   "execution_count": 1,
   "metadata": {},
   "outputs": [],
   "source": [
    "import pandas as pd"
   ]
  },
  {
   "cell_type": "markdown",
   "metadata": {},
   "source": [
    "###  Reading_file   "
   ]
  },
  {
   "cell_type": "code",
   "execution_count": 2,
   "metadata": {},
   "outputs": [],
   "source": [
    "dataframe = pd.read_csv('mtcars.csv')"
   ]
  },
  {
   "cell_type": "markdown",
   "metadata": {},
   "source": [
    "### Statistics for columns     "
   ]
  },
  {
   "cell_type": "code",
   "execution_count": 31,
   "metadata": {
    "scrolled": true
   },
   "outputs": [
    {
     "data": {
      "text/html": [
       "<div>\n",
       "<table border=\"1\" class=\"dataframe\">\n",
       "  <thead>\n",
       "    <tr style=\"text-align: right;\">\n",
       "      <th></th>\n",
       "      <th>mpg</th>\n",
       "      <th>cyl</th>\n",
       "      <th>disp</th>\n",
       "      <th>hp</th>\n",
       "      <th>drat</th>\n",
       "      <th>wt</th>\n",
       "      <th>qsec</th>\n",
       "      <th>am</th>\n",
       "      <th>gear</th>\n",
       "      <th>carb</th>\n",
       "    </tr>\n",
       "  </thead>\n",
       "  <tbody>\n",
       "    <tr>\n",
       "      <th>count</th>\n",
       "      <td>32.000000</td>\n",
       "      <td>32.000000</td>\n",
       "      <td>31.000000</td>\n",
       "      <td>32.000000</td>\n",
       "      <td>31.000000</td>\n",
       "      <td>31.000000</td>\n",
       "      <td>31.000000</td>\n",
       "      <td>31.000000</td>\n",
       "      <td>30.000000</td>\n",
       "      <td>31.000000</td>\n",
       "    </tr>\n",
       "    <tr>\n",
       "      <th>mean</th>\n",
       "      <td>20.090625</td>\n",
       "      <td>6.187500</td>\n",
       "      <td>226.841935</td>\n",
       "      <td>146.687500</td>\n",
       "      <td>3.569677</td>\n",
       "      <td>3.210065</td>\n",
       "      <td>17.874516</td>\n",
       "      <td>0.419355</td>\n",
       "      <td>3.700000</td>\n",
       "      <td>2.838710</td>\n",
       "    </tr>\n",
       "    <tr>\n",
       "      <th>std</th>\n",
       "      <td>6.026948</td>\n",
       "      <td>1.785922</td>\n",
       "      <td>123.996142</td>\n",
       "      <td>68.562868</td>\n",
       "      <td>0.521066</td>\n",
       "      <td>0.993773</td>\n",
       "      <td>1.810429</td>\n",
       "      <td>0.501610</td>\n",
       "      <td>0.749713</td>\n",
       "      <td>1.634967</td>\n",
       "    </tr>\n",
       "    <tr>\n",
       "      <th>min</th>\n",
       "      <td>10.400000</td>\n",
       "      <td>4.000000</td>\n",
       "      <td>71.100000</td>\n",
       "      <td>52.000000</td>\n",
       "      <td>2.760000</td>\n",
       "      <td>1.513000</td>\n",
       "      <td>14.500000</td>\n",
       "      <td>0.000000</td>\n",
       "      <td>3.000000</td>\n",
       "      <td>1.000000</td>\n",
       "    </tr>\n",
       "    <tr>\n",
       "      <th>25%</th>\n",
       "      <td>15.425000</td>\n",
       "      <td>4.000000</td>\n",
       "      <td>NaN</td>\n",
       "      <td>96.500000</td>\n",
       "      <td>NaN</td>\n",
       "      <td>NaN</td>\n",
       "      <td>NaN</td>\n",
       "      <td>NaN</td>\n",
       "      <td>NaN</td>\n",
       "      <td>NaN</td>\n",
       "    </tr>\n",
       "    <tr>\n",
       "      <th>50%</th>\n",
       "      <td>19.200000</td>\n",
       "      <td>6.000000</td>\n",
       "      <td>NaN</td>\n",
       "      <td>123.000000</td>\n",
       "      <td>NaN</td>\n",
       "      <td>NaN</td>\n",
       "      <td>NaN</td>\n",
       "      <td>NaN</td>\n",
       "      <td>NaN</td>\n",
       "      <td>NaN</td>\n",
       "    </tr>\n",
       "    <tr>\n",
       "      <th>75%</th>\n",
       "      <td>22.800000</td>\n",
       "      <td>8.000000</td>\n",
       "      <td>NaN</td>\n",
       "      <td>180.000000</td>\n",
       "      <td>NaN</td>\n",
       "      <td>NaN</td>\n",
       "      <td>NaN</td>\n",
       "      <td>NaN</td>\n",
       "      <td>NaN</td>\n",
       "      <td>NaN</td>\n",
       "    </tr>\n",
       "    <tr>\n",
       "      <th>max</th>\n",
       "      <td>33.900000</td>\n",
       "      <td>8.000000</td>\n",
       "      <td>472.000000</td>\n",
       "      <td>335.000000</td>\n",
       "      <td>4.930000</td>\n",
       "      <td>5.424000</td>\n",
       "      <td>22.900000</td>\n",
       "      <td>1.000000</td>\n",
       "      <td>5.000000</td>\n",
       "      <td>8.000000</td>\n",
       "    </tr>\n",
       "  </tbody>\n",
       "</table>\n",
       "</div>"
      ],
      "text/plain": [
       "             mpg        cyl        disp          hp       drat         wt  \\\n",
       "count  32.000000  32.000000   31.000000   32.000000  31.000000  31.000000   \n",
       "mean   20.090625   6.187500  226.841935  146.687500   3.569677   3.210065   \n",
       "std     6.026948   1.785922  123.996142   68.562868   0.521066   0.993773   \n",
       "min    10.400000   4.000000   71.100000   52.000000   2.760000   1.513000   \n",
       "25%    15.425000   4.000000         NaN   96.500000        NaN        NaN   \n",
       "50%    19.200000   6.000000         NaN  123.000000        NaN        NaN   \n",
       "75%    22.800000   8.000000         NaN  180.000000        NaN        NaN   \n",
       "max    33.900000   8.000000  472.000000  335.000000   4.930000   5.424000   \n",
       "\n",
       "            qsec         am       gear       carb  \n",
       "count  31.000000  31.000000  30.000000  31.000000  \n",
       "mean   17.874516   0.419355   3.700000   2.838710  \n",
       "std     1.810429   0.501610   0.749713   1.634967  \n",
       "min    14.500000   0.000000   3.000000   1.000000  \n",
       "25%          NaN        NaN        NaN        NaN  \n",
       "50%          NaN        NaN        NaN        NaN  \n",
       "75%          NaN        NaN        NaN        NaN  \n",
       "max    22.900000   1.000000   5.000000   8.000000  "
      ]
     },
     "execution_count": 31,
     "metadata": {},
     "output_type": "execute_result"
    }
   ],
   "source": [
    "dataframe.describe()   "
   ]
  },
  {
   "cell_type": "markdown",
   "metadata": {},
   "source": [
    "### Summary of dataframe "
   ]
  },
  {
   "cell_type": "code",
   "execution_count": 4,
   "metadata": {
    "scrolled": false
   },
   "outputs": [
    {
     "name": "stdout",
     "output_type": "stream",
     "text": [
      "<class 'pandas.core.frame.DataFrame'>\n",
      "RangeIndex: 32 entries, 0 to 31\n",
      "Data columns (total 12 columns):\n",
      "Unnamed: 0    32 non-null object\n",
      "mpg           32 non-null float64\n",
      "cyl           32 non-null int64\n",
      "disp          31 non-null float64\n",
      "hp            32 non-null int64\n",
      "drat          31 non-null float64\n",
      "wt            31 non-null float64\n",
      "qsec          31 non-null float64\n",
      "vs            32 non-null object\n",
      "am            31 non-null float64\n",
      "gear          30 non-null float64\n",
      "carb          31 non-null float64\n",
      "dtypes: float64(8), int64(2), object(2)\n",
      "memory usage: 3.1+ KB\n"
     ]
    }
   ],
   "source": [
    "dataframe.info() "
   ]
  },
  {
   "cell_type": "markdown",
   "metadata": {},
   "source": [
    "### Column names   "
   ]
  },
  {
   "cell_type": "code",
   "execution_count": 5,
   "metadata": {
    "scrolled": true
   },
   "outputs": [
    {
     "data": {
      "text/plain": [
       "Index([u'Unnamed: 0', u'mpg', u'cyl', u'disp', u'hp', u'drat', u'wt', u'qsec',\n",
       "       u'vs', u'am', u'gear', u'carb'],\n",
       "      dtype='object')"
      ]
     },
     "execution_count": 5,
     "metadata": {},
     "output_type": "execute_result"
    }
   ],
   "source": [
    "dataframe.columns       "
   ]
  },
  {
   "cell_type": "markdown",
   "metadata": {},
   "source": [
    "### Changing Index   "
   ]
  },
  {
   "cell_type": "code",
   "execution_count": 6,
   "metadata": {},
   "outputs": [],
   "source": [
    "dataframe.set_index('Unnamed: 0', inplace=True)\n",
    "dataframe.index.names = ['']"
   ]
  },
  {
   "cell_type": "code",
   "execution_count": 7,
   "metadata": {
    "scrolled": false
   },
   "outputs": [
    {
     "data": {
      "text/html": [
       "<div>\n",
       "<table border=\"1\" class=\"dataframe\">\n",
       "  <thead>\n",
       "    <tr style=\"text-align: right;\">\n",
       "      <th></th>\n",
       "      <th>mpg</th>\n",
       "      <th>cyl</th>\n",
       "      <th>disp</th>\n",
       "      <th>hp</th>\n",
       "      <th>drat</th>\n",
       "      <th>wt</th>\n",
       "      <th>qsec</th>\n",
       "      <th>vs</th>\n",
       "      <th>am</th>\n",
       "      <th>gear</th>\n",
       "      <th>carb</th>\n",
       "    </tr>\n",
       "    <tr>\n",
       "      <th></th>\n",
       "      <th></th>\n",
       "      <th></th>\n",
       "      <th></th>\n",
       "      <th></th>\n",
       "      <th></th>\n",
       "      <th></th>\n",
       "      <th></th>\n",
       "      <th></th>\n",
       "      <th></th>\n",
       "      <th></th>\n",
       "      <th></th>\n",
       "    </tr>\n",
       "  </thead>\n",
       "  <tbody>\n",
       "    <tr>\n",
       "      <th>Mazda RX4</th>\n",
       "      <td>21.0</td>\n",
       "      <td>6</td>\n",
       "      <td>160.0</td>\n",
       "      <td>110</td>\n",
       "      <td>3.90</td>\n",
       "      <td>2.620</td>\n",
       "      <td>16.46</td>\n",
       "      <td>V-shaped</td>\n",
       "      <td>1.0</td>\n",
       "      <td>4.0</td>\n",
       "      <td>4.0</td>\n",
       "    </tr>\n",
       "    <tr>\n",
       "      <th>Mazda RX4 Wag</th>\n",
       "      <td>21.0</td>\n",
       "      <td>6</td>\n",
       "      <td>160.0</td>\n",
       "      <td>110</td>\n",
       "      <td>3.90</td>\n",
       "      <td>2.875</td>\n",
       "      <td>17.02</td>\n",
       "      <td>V-shaped</td>\n",
       "      <td>1.0</td>\n",
       "      <td>4.0</td>\n",
       "      <td>4.0</td>\n",
       "    </tr>\n",
       "    <tr>\n",
       "      <th>Datsun 710</th>\n",
       "      <td>22.8</td>\n",
       "      <td>4</td>\n",
       "      <td>108.0</td>\n",
       "      <td>93</td>\n",
       "      <td>3.85</td>\n",
       "      <td>2.320</td>\n",
       "      <td>18.61</td>\n",
       "      <td>straight</td>\n",
       "      <td>1.0</td>\n",
       "      <td>4.0</td>\n",
       "      <td>1.0</td>\n",
       "    </tr>\n",
       "    <tr>\n",
       "      <th>Hornet 4 Drive</th>\n",
       "      <td>21.4</td>\n",
       "      <td>6</td>\n",
       "      <td>258.0</td>\n",
       "      <td>110</td>\n",
       "      <td>3.08</td>\n",
       "      <td>3.215</td>\n",
       "      <td>19.44</td>\n",
       "      <td>straight</td>\n",
       "      <td>0.0</td>\n",
       "      <td>3.0</td>\n",
       "      <td>1.0</td>\n",
       "    </tr>\n",
       "    <tr>\n",
       "      <th>Hornet Sportabout</th>\n",
       "      <td>18.7</td>\n",
       "      <td>8</td>\n",
       "      <td>360.0</td>\n",
       "      <td>175</td>\n",
       "      <td>3.15</td>\n",
       "      <td>3.440</td>\n",
       "      <td>17.02</td>\n",
       "      <td>V-shaped</td>\n",
       "      <td>0.0</td>\n",
       "      <td>3.0</td>\n",
       "      <td>2.0</td>\n",
       "    </tr>\n",
       "  </tbody>\n",
       "</table>\n",
       "</div>"
      ],
      "text/plain": [
       "                    mpg  cyl   disp   hp  drat     wt   qsec        vs   am  \\\n",
       "                                                                              \n",
       "Mazda RX4          21.0    6  160.0  110  3.90  2.620  16.46  V-shaped  1.0   \n",
       "Mazda RX4 Wag      21.0    6  160.0  110  3.90  2.875  17.02  V-shaped  1.0   \n",
       "Datsun 710         22.8    4  108.0   93  3.85  2.320  18.61  straight  1.0   \n",
       "Hornet 4 Drive     21.4    6  258.0  110  3.08  3.215  19.44  straight  0.0   \n",
       "Hornet Sportabout  18.7    8  360.0  175  3.15  3.440  17.02  V-shaped  0.0   \n",
       "\n",
       "                   gear  carb  \n",
       "                               \n",
       "Mazda RX4           4.0   4.0  \n",
       "Mazda RX4 Wag       4.0   4.0  \n",
       "Datsun 710          4.0   1.0  \n",
       "Hornet 4 Drive      3.0   1.0  \n",
       "Hornet Sportabout   3.0   2.0  "
      ]
     },
     "execution_count": 7,
     "metadata": {},
     "output_type": "execute_result"
    }
   ],
   "source": [
    "dataframe.head()"
   ]
  },
  {
   "cell_type": "markdown",
   "metadata": {},
   "source": [
    "### Checking columns  datatypes  "
   ]
  },
  {
   "cell_type": "code",
   "execution_count": 8,
   "metadata": {
    "scrolled": true
   },
   "outputs": [
    {
     "name": "stdout",
     "output_type": "stream",
     "text": [
      "mpg float64\n",
      "cyl int64\n",
      "disp float64\n",
      "hp int64\n",
      "drat float64\n",
      "wt float64\n",
      "qsec float64\n",
      "vs object\n",
      "am float64\n",
      "gear float64\n",
      "carb float64\n"
     ]
    }
   ],
   "source": [
    "# dataframe.info() works as well\n",
    "for col in dataframe.columns:\n",
    "    print col, dataframe[col].dtype"
   ]
  },
  {
   "cell_type": "code",
   "execution_count": 9,
   "metadata": {
    "scrolled": true
   },
   "outputs": [
    {
     "data": {
      "text/plain": [
       "dtype('float64')"
      ]
     },
     "execution_count": 9,
     "metadata": {},
     "output_type": "execute_result"
    }
   ],
   "source": [
    "dataframe.mpg.dtype"
   ]
  },
  {
   "cell_type": "markdown",
   "metadata": {},
   "source": [
    "### Changing the datatypes"
   ]
  },
  {
   "cell_type": "code",
   "execution_count": 10,
   "metadata": {},
   "outputs": [],
   "source": [
    "dataframe.hp = dataframe.hp.astype('int') "
   ]
  },
  {
   "cell_type": "markdown",
   "metadata": {},
   "source": [
    "### Finding missing values "
   ]
  },
  {
   "cell_type": "code",
   "execution_count": 11,
   "metadata": {},
   "outputs": [
    {
     "data": {
      "text/plain": [
       "mpg     0\n",
       "cyl     0\n",
       "disp    1\n",
       "hp      0\n",
       "drat    1\n",
       "wt      1\n",
       "qsec    1\n",
       "vs      0\n",
       "am      1\n",
       "gear    2\n",
       "carb    1\n",
       "dtype: int64"
      ]
     },
     "execution_count": 11,
     "metadata": {},
     "output_type": "execute_result"
    }
   ],
   "source": [
    "dataframe.isnull().sum()"
   ]
  },
  {
   "cell_type": "markdown",
   "metadata": {},
   "source": [
    "### Imputing Missing values  (Numeric) "
   ]
  },
  {
   "cell_type": "code",
   "execution_count": 12,
   "metadata": {},
   "outputs": [
    {
     "data": {
      "text/plain": [
       "['mpg', 'cyl', 'disp', 'hp', 'drat', 'wt', 'qsec', 'am', 'gear', 'carb']"
      ]
     },
     "execution_count": 12,
     "metadata": {},
     "output_type": "execute_result"
    }
   ],
   "source": [
    "numerical_attributes = [col for col in dataframe if dataframe[col].dtype != 'object']\n",
    "\n",
    "numerical_attributes"
   ]
  },
  {
   "cell_type": "code",
   "execution_count": 13,
   "metadata": {},
   "outputs": [],
   "source": [
    "from sklearn.preprocessing import Imputer "
   ]
  },
  {
   "cell_type": "code",
   "execution_count": 14,
   "metadata": {},
   "outputs": [],
   "source": [
    "imputer = Imputer(missing_values='NaN', strategy = 'mean', axis= 0 )"
   ]
  },
  {
   "cell_type": "code",
   "execution_count": 15,
   "metadata": {},
   "outputs": [],
   "source": [
    "imputed_dataframe_numeric =  pd.DataFrame(imputer.fit_transform(dataframe[numerical_attributes]), \n",
    "                                                                columns = numerical_attributes)"
   ]
  },
  {
   "cell_type": "code",
   "execution_count": 16,
   "metadata": {},
   "outputs": [
    {
     "data": {
      "text/plain": [
       "mpg     0\n",
       "cyl     0\n",
       "disp    0\n",
       "hp      0\n",
       "drat    0\n",
       "wt      0\n",
       "qsec    0\n",
       "am      0\n",
       "gear    0\n",
       "carb    0\n",
       "dtype: int64"
      ]
     },
     "execution_count": 16,
     "metadata": {},
     "output_type": "execute_result"
    }
   ],
   "source": [
    "# Double check\n",
    "imputed_dataframe_numeric.isnull().sum()"
   ]
  },
  {
   "cell_type": "code",
   "execution_count": 17,
   "metadata": {},
   "outputs": [],
   "source": [
    "# Copying the index\n",
    "imputed_dataframe_numeric.index = dataframe.index"
   ]
  },
  {
   "cell_type": "markdown",
   "metadata": {},
   "source": [
    "###  Imputing Missing values  (Categorical)   "
   ]
  },
  {
   "cell_type": "code",
   "execution_count": 18,
   "metadata": {},
   "outputs": [],
   "source": [
    "# The only column in the dataframe that is a string is 'vs' but there are no missing values in it. So we skip this step\n",
    "# imputed_dataframe_categorical = dataframe['vs'].apply(lambda x : x.fillna(x.value_counts().index[0])) "
   ]
  },
  {
   "cell_type": "markdown",
   "metadata": {},
   "source": [
    "### Categorical  to Numeric "
   ]
  },
  {
   "cell_type": "code",
   "execution_count": 19,
   "metadata": {},
   "outputs": [],
   "source": [
    "dataframe_dummies_vs = pd.get_dummies(dataframe['vs'], prefix='vs')"
   ]
  },
  {
   "cell_type": "markdown",
   "metadata": {},
   "source": [
    "###  Scaling the Numerical Attribute (Range)     "
   ]
  },
  {
   "cell_type": "code",
   "execution_count": 20,
   "metadata": {},
   "outputs": [],
   "source": [
    "# Concatenating the dataframes \n",
    "final_df = pd.concat([imputed_dataframe_numeric, dataframe_dummies_vs],axis = 1)"
   ]
  },
  {
   "cell_type": "code",
   "execution_count": 21,
   "metadata": {},
   "outputs": [],
   "source": [
    "from sklearn.preprocessing import MinMaxScaler                          "
   ]
  },
  {
   "cell_type": "code",
   "execution_count": 22,
   "metadata": {},
   "outputs": [],
   "source": [
    "minmax_scaler = MinMaxScaler() "
   ]
  },
  {
   "cell_type": "code",
   "execution_count": 23,
   "metadata": {
    "scrolled": true
   },
   "outputs": [
    {
     "data": {
      "text/plain": [
       "array([[ 0.45106383,  0.5       ,  0.22175106,  0.204947  ,  0.52534562,\n",
       "         0.28304781,  0.23333333,  1.        ,  0.5       ,  0.42857143,\n",
       "         1.        ,  0.        ],\n",
       "       [ 0.45106383,  0.5       ,  0.22175106,  0.204947  ,  0.52534562,\n",
       "         0.34824853,  0.3       ,  1.        ,  0.5       ,  0.42857143,\n",
       "         1.        ,  0.        ],\n",
       "       [ 0.52765957,  0.        ,  0.0920429 ,  0.14487633,  0.50230415,\n",
       "         0.20634109,  0.48928571,  1.        ,  0.5       ,  0.        ,\n",
       "         0.        ,  1.        ],\n",
       "       [ 0.46808511,  0.5       ,  0.46620105,  0.204947  ,  0.14746544,\n",
       "         0.43518282,  0.58809524,  0.        ,  0.        ,  0.        ,\n",
       "         0.        ,  1.        ],\n",
       "       [ 0.35319149,  1.        ,  0.72062859,  0.43462898,  0.1797235 ,\n",
       "         0.49271286,  0.3       ,  0.        ,  0.        ,  0.14285714,\n",
       "         1.        ,  0.        ],\n",
       "       [ 0.32765957,  0.5       ,  0.38388626,  0.18727915,  0.        ,\n",
       "         0.49782664,  0.68095238,  0.        ,  0.        ,  0.        ,\n",
       "         0.        ,  1.        ],\n",
       "       [ 0.16595745,  1.        ,  0.72062859,  0.6819788 ,  0.20737327,\n",
       "         0.52595244,  0.15952381,  0.        ,  0.        ,  0.42857143,\n",
       "         1.        ,  0.        ],\n",
       "       [ 0.59574468,  0.        ,  0.1885757 ,  0.03533569,  0.42857143,\n",
       "         0.42879059,  0.6547619 ,  0.        ,  0.5       ,  0.14285714,\n",
       "         0.        ,  1.        ],\n",
       "       [ 0.52765957,  0.        ,  0.17385882,  0.15194346,  0.53456221,\n",
       "         0.41856303,  1.        ,  0.        ,  0.5       ,  0.14285714,\n",
       "         0.        ,  1.        ],\n",
       "       [ 0.37446809,  0.5       ,  0.24070841,  0.25088339,  0.53456221,\n",
       "         0.49271286,  0.45238095,  0.        ,  0.5       ,  0.42857143,\n",
       "         0.        ,  1.        ],\n",
       "       [ 0.31489362,  0.5       ,  0.24070841,  0.25088339,  0.53456221,\n",
       "         0.43392087,  0.52380952,  0.        ,  0.5       ,  0.42857143,\n",
       "         0.        ,  1.        ],\n",
       "       [ 0.25531915,  1.        ,  0.51060115,  0.45229682,  0.14285714,\n",
       "         0.65379698,  0.3452381 ,  0.41935484,  0.        ,  0.28571429,\n",
       "         1.        ,  0.        ],\n",
       "       [ 0.29361702,  1.        ,  0.51060115,  0.45229682,  0.14285714,\n",
       "         0.56686269,  0.36904762,  0.        ,  0.        ,  0.28571429,\n",
       "         1.        ,  0.        ],\n",
       "       [ 0.20425532,  1.        ,  0.51060115,  0.45229682,  0.14285714,\n",
       "         0.57964715,  0.41666667,  0.        ,  0.35      ,  0.28571429,\n",
       "         1.        ,  0.        ],\n",
       "       [ 0.        ,  1.        ,  1.        ,  0.54063604,  0.07834101,\n",
       "         0.9555101 ,  0.41428571,  0.        ,  0.        ,  0.42857143,\n",
       "         1.        ,  0.        ],\n",
       "       [ 0.        ,  1.        ,  0.97006735,  0.57597173,  0.11059908,\n",
       "         1.        ,  0.3952381 ,  0.        ,  0.        ,  0.42857143,\n",
       "         1.        ,  0.        ],\n",
       "       [ 0.18297872,  1.        ,  0.9201796 ,  0.62897527,  0.21658986,\n",
       "         0.97980056,  0.34761905,  0.        ,  0.        ,  0.42857143,\n",
       "         1.        ,  0.        ],\n",
       "       [ 0.93617021,  0.        ,  0.01895735,  0.04946996,  0.60829493,\n",
       "         0.1756584 ,  0.59166667,  1.        ,  0.5       ,  0.        ,\n",
       "         0.        ,  1.        ],\n",
       "       [ 0.85106383,  0.        ,  0.01147418,  0.        ,  1.        ,\n",
       "         0.02608029,  0.47857143,  1.        ,  0.35      ,  0.14285714,\n",
       "         0.        ,  1.        ],\n",
       "       [ 1.        ,  0.        ,  0.        ,  0.0459364 ,  0.67281106,\n",
       "         0.08233188,  0.64285714,  1.        ,  0.5       ,  0.        ,\n",
       "         0.        ,  1.        ],\n",
       "       [ 0.47234043,  0.        ,  0.12222499,  0.1590106 ,  0.43317972,\n",
       "         0.24341601,  0.65595238,  0.        ,  0.        ,  0.        ,\n",
       "         0.        ,  1.        ],\n",
       "       [ 0.21702128,  1.        ,  0.61586431,  0.34628975,  0.        ,\n",
       "         0.51316799,  0.28214286,  0.        ,  0.        ,  0.26267281,\n",
       "         1.        ,  0.        ],\n",
       "       [ 0.20425532,  1.        ,  0.58094288,  0.34628975,  0.1797235 ,\n",
       "         0.49143442,  0.33333333,  0.        ,  0.        ,  0.14285714,\n",
       "         1.        ,  0.        ],\n",
       "       [ 0.12340426,  1.        ,  0.69568471,  0.6819788 ,  0.44700461,\n",
       "         0.59498849,  0.10833333,  0.        ,  0.        ,  0.42857143,\n",
       "         1.        ,  0.        ],\n",
       "       [ 0.37446809,  1.        ,  0.82040409,  0.43462898,  0.14746544,\n",
       "         0.59626694,  0.40172811,  0.        ,  0.        ,  0.14285714,\n",
       "         1.        ,  0.        ],\n",
       "       [ 0.71914894,  0.        ,  0.01970566,  0.04946996,  0.60829493,\n",
       "         0.10790079,  0.52380952,  1.        ,  0.5       ,  0.        ,\n",
       "         0.        ,  1.        ],\n",
       "       [ 0.66382979,  0.        ,  0.12272387,  0.13780919,  0.37312323,\n",
       "         0.16031705,  0.26190476,  1.        ,  1.        ,  0.14285714,\n",
       "         1.        ,  0.        ],\n",
       "       [ 0.85106383,  0.        ,  0.0598653 ,  0.2155477 ,  0.46543779,\n",
       "         0.        ,  0.28571429,  1.        ,  1.        ,  0.14285714,\n",
       "         0.        ,  1.        ],\n",
       "       [ 0.22978723,  1.        ,  0.38848076,  0.74911661,  0.67281106,\n",
       "         0.42367681,  0.        ,  1.        ,  1.        ,  0.42857143,\n",
       "         1.        ,  0.        ],\n",
       "       [ 0.39574468,  0.5       ,  0.18433525,  0.43462898,  0.39631336,\n",
       "         0.32140118,  0.11904762,  1.        ,  1.        ,  0.71428571,\n",
       "         1.        ,  0.        ],\n",
       "       [ 0.19574468,  1.        ,  0.57345972,  1.        ,  0.359447  ,\n",
       "         0.52595244,  0.01190476,  1.        ,  1.        ,  1.        ,\n",
       "         1.        ,  0.        ],\n",
       "       [ 0.46808511,  0.        ,  0.12446994,  0.20141343,  0.62211982,\n",
       "         0.32395807,  0.48809524,  1.        ,  0.5       ,  0.14285714,\n",
       "         0.        ,  1.        ]])"
      ]
     },
     "execution_count": 23,
     "metadata": {},
     "output_type": "execute_result"
    }
   ],
   "source": [
    "# Converts everything on scale of 0 to 1\n",
    "minmax_scaler.fit_transform(final_df)  # returns an array"
   ]
  },
  {
   "cell_type": "code",
   "execution_count": 24,
   "metadata": {},
   "outputs": [],
   "source": [
    "dataframe_generalized = pd.DataFrame(minmax_scaler.fit_transform(final_df), \n",
    "                                     columns= final_df.columns, index = final_df.index)"
   ]
  },
  {
   "cell_type": "code",
   "execution_count": 25,
   "metadata": {},
   "outputs": [
    {
     "data": {
      "text/html": [
       "<div>\n",
       "<table border=\"1\" class=\"dataframe\">\n",
       "  <thead>\n",
       "    <tr style=\"text-align: right;\">\n",
       "      <th></th>\n",
       "      <th>mpg</th>\n",
       "      <th>cyl</th>\n",
       "      <th>disp</th>\n",
       "      <th>hp</th>\n",
       "      <th>drat</th>\n",
       "      <th>wt</th>\n",
       "      <th>qsec</th>\n",
       "      <th>am</th>\n",
       "      <th>gear</th>\n",
       "      <th>carb</th>\n",
       "      <th>vs_V-shaped</th>\n",
       "      <th>vs_straight</th>\n",
       "    </tr>\n",
       "    <tr>\n",
       "      <th></th>\n",
       "      <th></th>\n",
       "      <th></th>\n",
       "      <th></th>\n",
       "      <th></th>\n",
       "      <th></th>\n",
       "      <th></th>\n",
       "      <th></th>\n",
       "      <th></th>\n",
       "      <th></th>\n",
       "      <th></th>\n",
       "      <th></th>\n",
       "      <th></th>\n",
       "    </tr>\n",
       "  </thead>\n",
       "  <tbody>\n",
       "    <tr>\n",
       "      <th>Mazda RX4</th>\n",
       "      <td>0.451064</td>\n",
       "      <td>0.5</td>\n",
       "      <td>0.221751</td>\n",
       "      <td>0.204947</td>\n",
       "      <td>0.525346</td>\n",
       "      <td>0.283048</td>\n",
       "      <td>0.233333</td>\n",
       "      <td>1.0</td>\n",
       "      <td>0.5</td>\n",
       "      <td>0.428571</td>\n",
       "      <td>1.0</td>\n",
       "      <td>0.0</td>\n",
       "    </tr>\n",
       "    <tr>\n",
       "      <th>Mazda RX4 Wag</th>\n",
       "      <td>0.451064</td>\n",
       "      <td>0.5</td>\n",
       "      <td>0.221751</td>\n",
       "      <td>0.204947</td>\n",
       "      <td>0.525346</td>\n",
       "      <td>0.348249</td>\n",
       "      <td>0.300000</td>\n",
       "      <td>1.0</td>\n",
       "      <td>0.5</td>\n",
       "      <td>0.428571</td>\n",
       "      <td>1.0</td>\n",
       "      <td>0.0</td>\n",
       "    </tr>\n",
       "    <tr>\n",
       "      <th>Datsun 710</th>\n",
       "      <td>0.527660</td>\n",
       "      <td>0.0</td>\n",
       "      <td>0.092043</td>\n",
       "      <td>0.144876</td>\n",
       "      <td>0.502304</td>\n",
       "      <td>0.206341</td>\n",
       "      <td>0.489286</td>\n",
       "      <td>1.0</td>\n",
       "      <td>0.5</td>\n",
       "      <td>0.000000</td>\n",
       "      <td>0.0</td>\n",
       "      <td>1.0</td>\n",
       "    </tr>\n",
       "    <tr>\n",
       "      <th>Hornet 4 Drive</th>\n",
       "      <td>0.468085</td>\n",
       "      <td>0.5</td>\n",
       "      <td>0.466201</td>\n",
       "      <td>0.204947</td>\n",
       "      <td>0.147465</td>\n",
       "      <td>0.435183</td>\n",
       "      <td>0.588095</td>\n",
       "      <td>0.0</td>\n",
       "      <td>0.0</td>\n",
       "      <td>0.000000</td>\n",
       "      <td>0.0</td>\n",
       "      <td>1.0</td>\n",
       "    </tr>\n",
       "    <tr>\n",
       "      <th>Hornet Sportabout</th>\n",
       "      <td>0.353191</td>\n",
       "      <td>1.0</td>\n",
       "      <td>0.720629</td>\n",
       "      <td>0.434629</td>\n",
       "      <td>0.179724</td>\n",
       "      <td>0.492713</td>\n",
       "      <td>0.300000</td>\n",
       "      <td>0.0</td>\n",
       "      <td>0.0</td>\n",
       "      <td>0.142857</td>\n",
       "      <td>1.0</td>\n",
       "      <td>0.0</td>\n",
       "    </tr>\n",
       "  </tbody>\n",
       "</table>\n",
       "</div>"
      ],
      "text/plain": [
       "                        mpg  cyl      disp        hp      drat        wt  \\\n",
       "                                                                           \n",
       "Mazda RX4          0.451064  0.5  0.221751  0.204947  0.525346  0.283048   \n",
       "Mazda RX4 Wag      0.451064  0.5  0.221751  0.204947  0.525346  0.348249   \n",
       "Datsun 710         0.527660  0.0  0.092043  0.144876  0.502304  0.206341   \n",
       "Hornet 4 Drive     0.468085  0.5  0.466201  0.204947  0.147465  0.435183   \n",
       "Hornet Sportabout  0.353191  1.0  0.720629  0.434629  0.179724  0.492713   \n",
       "\n",
       "                       qsec   am  gear      carb  vs_V-shaped  vs_straight  \n",
       "                                                                            \n",
       "Mazda RX4          0.233333  1.0   0.5  0.428571          1.0          0.0  \n",
       "Mazda RX4 Wag      0.300000  1.0   0.5  0.428571          1.0          0.0  \n",
       "Datsun 710         0.489286  1.0   0.5  0.000000          0.0          1.0  \n",
       "Hornet 4 Drive     0.588095  0.0   0.0  0.000000          0.0          1.0  \n",
       "Hornet Sportabout  0.300000  0.0   0.0  0.142857          1.0          0.0  "
      ]
     },
     "execution_count": 25,
     "metadata": {},
     "output_type": "execute_result"
    }
   ],
   "source": [
    "dataframe_generalized.head()"
   ]
  },
  {
   "cell_type": "markdown",
   "metadata": {},
   "source": [
    "### Scaling the Numerical Attribute  (Standardize)  (Mean = 0, SD = 1) "
   ]
  },
  {
   "cell_type": "code",
   "execution_count": 26,
   "metadata": {},
   "outputs": [],
   "source": [
    "from sklearn.preprocessing import StandardScaler                         "
   ]
  },
  {
   "cell_type": "code",
   "execution_count": 27,
   "metadata": {},
   "outputs": [],
   "source": [
    "std_scalar = StandardScaler()"
   ]
  },
  {
   "cell_type": "code",
   "execution_count": 28,
   "metadata": {
    "scrolled": true
   },
   "outputs": [
    {
     "data": {
      "text/plain": [
       "array([[  1.53299135e-01,  -1.06667720e-01,  -5.56743566e-01,\n",
       "         -5.43654869e-01,   6.54726314e-01,  -6.13234762e-01,\n",
       "         -8.06939227e-01,   1.19552516e+00,   4.20341666e-01,\n",
       "          7.33577633e-01,   8.81917104e-01,  -8.81917104e-01],\n",
       "       [  1.53299135e-01,  -1.06667720e-01,  -5.56743566e-01,\n",
       "         -5.43654869e-01,   6.54726314e-01,  -3.48221598e-01,\n",
       "         -4.87475944e-01,   1.19552516e+00,   4.20341666e-01,\n",
       "          7.33577633e-01,   8.81917104e-01,  -8.81917104e-01],\n",
       "       [  4.56736599e-01,  -1.24445674e+00,  -9.89864857e-01,\n",
       "         -7.95569902e-01,   5.55622233e-01,  -9.25014955e-01,\n",
       "          4.19571594e-01,   1.19552516e+00,   4.20341666e-01,\n",
       "         -1.16149792e+00,  -1.13389342e+00,   1.13389342e+00],\n",
       "       [  2.20729683e-01,  -1.06667720e-01,   2.59523483e-01,\n",
       "         -5.43654869e-01,  -9.70580610e-01,   5.12928705e-03,\n",
       "          8.93061817e-01,  -8.63434834e-01,  -9.80797222e-01,\n",
       "         -1.16149792e+00,  -1.13389342e+00,   1.13389342e+00],\n",
       "       [ -2.34426513e-01,   1.03112130e+00,   1.10910756e+00,\n",
       "          4.19549669e-01,  -8.31834897e-01,   2.38964432e-01,\n",
       "         -4.87475944e-01,  -8.63434834e-01,  -9.80797222e-01,\n",
       "         -5.29806068e-01,   8.81917104e-01,  -8.81917104e-01],\n",
       "       [ -3.35572334e-01,  -1.06667720e-01,  -1.53419515e-02,\n",
       "         -6.17747526e-01,  -1.60484673e+00,   2.59749778e-01,\n",
       "          1.33802853e+00,  -8.63434834e-01,  -9.80797222e-01,\n",
       "         -1.16149792e+00,  -1.13389342e+00,   1.13389342e+00],\n",
       "       [ -9.76162534e-01,   1.03112130e+00,   1.10910756e+00,\n",
       "          1.45684686e+00,  -7.12910000e-01,   3.74069182e-01,\n",
       "         -1.16063072e+00,  -8.63434834e-01,  -9.80797222e-01,\n",
       "          7.33577633e-01,   8.81917104e-01,  -8.81917104e-01],\n",
       "       [  7.26458788e-01,  -1.24445674e+00,  -6.67522665e-01,\n",
       "         -1.25494437e+00,   2.38489175e-01,  -2.08523957e-02,\n",
       "          1.21252510e+00,  -8.63434834e-01,   4.20341666e-01,\n",
       "         -5.29806068e-01,  -1.13389342e+00,   1.13389342e+00],\n",
       "       [  4.56736599e-01,  -1.24445674e+00,  -7.16665273e-01,\n",
       "         -7.65932839e-01,   6.94367946e-01,  -6.24230881e-02,\n",
       "          2.86688853e+00,  -8.63434834e-01,   4.20341666e-01,\n",
       "         -5.29806068e-01,  -1.13389342e+00,   1.13389342e+00],\n",
       "       [ -1.50138328e-01,  -1.06667720e-01,  -4.93441223e-01,\n",
       "         -3.51013961e-01,   6.94367946e-01,   2.38964432e-01,\n",
       "          2.42725847e-01,  -8.63434834e-01,   4.20341666e-01,\n",
       "          7.33577633e-01,  -1.13389342e+00,   1.13389342e+00],\n",
       "       [ -3.86145244e-01,  -1.06667720e-01,  -4.93441223e-01,\n",
       "         -3.51013961e-01,   6.94367946e-01,   4.61527399e-16,\n",
       "          5.85007937e-01,  -8.63434834e-01,   4.20341666e-01,\n",
       "          7.33577633e-01,  -1.13389342e+00,   1.13389342e+00],\n",
       "       [ -6.22152160e-01,   1.03112130e+00,   4.07784233e-01,\n",
       "          4.93642326e-01,  -9.90401426e-01,   8.93702837e-01,\n",
       "         -2.70697287e-01,   0.00000000e+00,  -9.80797222e-01,\n",
       "          1.01885782e-01,   8.81917104e-01,  -8.81917104e-01],\n",
       "       [ -4.70433428e-01,   1.03112130e+00,   4.07784233e-01,\n",
       "          4.93642326e-01,  -9.90401426e-01,   5.40351952e-01,\n",
       "         -1.56603257e-01,  -8.63434834e-01,  -9.80797222e-01,\n",
       "          1.01885782e-01,   8.81917104e-01,  -8.81917104e-01],\n",
       "       [ -8.24443802e-01,   1.03112130e+00,   4.07784233e-01,\n",
       "          4.93642326e-01,  -9.90401426e-01,   5.92315317e-01,\n",
       "          7.15848026e-02,  -8.63434834e-01,   0.00000000e+00,\n",
       "          1.01885782e-01,   8.81917104e-01,  -8.81917104e-01],\n",
       "       [ -1.63361037e+00,   1.03112130e+00,   2.04198418e+00,\n",
       "          8.64105609e-01,  -1.26789285e+00,   2.12003826e+00,\n",
       "          6.01753996e-02,  -8.63434834e-01,  -9.80797222e-01,\n",
       "          7.33577633e-01,   8.81917104e-01,  -8.81917104e-01],\n",
       "       [ -1.63361037e+00,   1.03112130e+00,   1.94203312e+00,\n",
       "          1.01229092e+00,  -1.12914714e+00,   2.30087077e+00,\n",
       "         -3.10998243e-02,  -8.63434834e-01,  -9.80797222e-01,\n",
       "          7.33577633e-01,   8.81917104e-01,  -8.81917104e-01],\n",
       "       [ -9.08731987e-01,   1.03112130e+00,   1.77544800e+00,\n",
       "          1.23456889e+00,  -6.73268368e-01,   2.21876866e+00,\n",
       "         -2.59287884e-01,  -8.63434834e-01,  -9.80797222e-01,\n",
       "          7.33577633e-01,   8.81917104e-01,  -8.81917104e-01],\n",
       "       [  2.07506974e+00,  -1.24445674e+00,  -1.23391205e+00,\n",
       "         -1.19567025e+00,   1.01150100e+00,  -1.04972703e+00,\n",
       "          9.10175922e-01,   1.19552516e+00,   4.20341666e-01,\n",
       "         -1.16149792e+00,  -1.13389342e+00,   1.13389342e+00],\n",
       "       [  1.73791700e+00,  -1.24445674e+00,  -1.25889981e+00,\n",
       "         -1.40312969e+00,   2.69627038e+00,  -1.65769841e+00,\n",
       "          3.68229280e-01,   1.19552516e+00,   0.00000000e+00,\n",
       "         -5.29806068e-01,  -1.13389342e+00,   1.13389342e+00],\n",
       "       [  2.32793429e+00,  -1.24445674e+00,  -1.29721439e+00,\n",
       "         -1.21048878e+00,   1.28899243e+00,  -1.42905960e+00,\n",
       "          1.15547809e+00,   1.19552516e+00,   4.20341666e-01,\n",
       "         -1.16149792e+00,  -1.13389342e+00,   1.13389342e+00],\n",
       "       [  2.37587319e-01,  -1.24445674e+00,  -8.89080864e-01,\n",
       "         -7.36295776e-01,   2.58309991e-01,  -7.74321195e-01,\n",
       "          1.21822980e+00,  -8.63434834e-01,  -9.80797222e-01,\n",
       "         -1.16149792e+00,  -1.13389342e+00,   1.13389342e+00],\n",
       "       [ -7.73870892e-01,   1.03112130e+00,   7.59278820e-01,\n",
       "          4.90863851e-02,  -1.60484673e+00,   3.22105817e-01,\n",
       "         -5.73046466e-01,  -8.63434834e-01,  -9.80797222e-01,\n",
       "          0.00000000e+00,   8.81917104e-01,  -8.81917104e-01],\n",
       "       [ -8.24443802e-01,   1.03112130e+00,   6.42669241e-01,\n",
       "          4.90863851e-02,  -8.31834897e-01,   2.33768095e-01,\n",
       "         -3.27744302e-01,  -8.63434834e-01,  -9.80797222e-01,\n",
       "         -5.29806068e-01,   8.81917104e-01,  -8.81917104e-01],\n",
       "       [ -1.14473890e+00,   1.03112130e+00,   1.02581500e+00,\n",
       "          1.45684686e+00,   3.17772439e-01,   6.54671356e-01,\n",
       "         -1.40593288e+00,  -8.63434834e-01,  -9.80797222e-01,\n",
       "          7.33577633e-01,   8.81917104e-01,  -8.81917104e-01],\n",
       "       [ -1.50138328e-01,   1.03112130e+00,   1.44227778e+00,\n",
       "          4.19549669e-01,  -9.70580610e-01,   6.59867692e-01,\n",
       "          2.02671710e-15,  -8.63434834e-01,  -9.80797222e-01,\n",
       "         -5.29806068e-01,   8.81917104e-01,  -8.81917104e-01],\n",
       "       [  1.21533026e+00,  -1.24445674e+00,  -1.23141327e+00,\n",
       "         -1.19567025e+00,   1.01150100e+00,  -1.32513287e+00,\n",
       "          5.85007937e-01,   1.19552516e+00,   4.20341666e-01,\n",
       "         -1.16149792e+00,  -1.13389342e+00,   1.13389342e+00],\n",
       "       [  9.96180978e-01,  -1.24445674e+00,  -8.87415013e-01,\n",
       "         -8.25206964e-01,   0.00000000e+00,  -1.11208307e+00,\n",
       "         -6.70026391e-01,   1.19552516e+00,   1.82148055e+00,\n",
       "         -5.29806068e-01,   8.81917104e-01,  -8.81917104e-01],\n",
       "       [  1.73791700e+00,  -1.24445674e+00,  -1.09731225e+00,\n",
       "         -4.99199275e-01,   3.97055704e-01,  -1.76370367e+00,\n",
       "         -5.55932362e-01,   1.19552516e+00,   1.82148055e+00,\n",
       "         -5.29806068e-01,  -1.13389342e+00,   1.13389342e+00],\n",
       "       [ -7.23297981e-01,   1.03112130e+00,  -2.36731683e-16,\n",
       "          1.73839896e+00,   1.28899243e+00,  -4.16377419e-02,\n",
       "         -1.92506072e+00,   1.19552516e+00,   1.82148055e+00,\n",
       "          7.33577633e-01,   8.81917104e-01,  -8.81917104e-01],\n",
       "       [ -6.58501440e-02,  -1.06667720e-01,  -6.81682400e-01,\n",
       "          4.19549669e-01,   9.97434619e-02,  -4.57344666e-01,\n",
       "         -1.35459057e+00,   1.19552516e+00,   1.82148055e+00,\n",
       "          1.99696133e+00,   8.81917104e-01,  -8.81917104e-01],\n",
       "       [ -8.58159076e-01,   1.03112130e+00,   6.17681474e-01,\n",
       "          2.79051468e+00,  -5.88230672e-02,   3.74069182e-01,\n",
       "         -1.86801370e+00,   1.19552516e+00,   1.82148055e+00,\n",
       "          3.26034503e+00,   8.81917104e-01,  -8.81917104e-01],\n",
       "       [  2.20729683e-01,  -1.24445674e+00,  -8.81584534e-01,\n",
       "         -5.58473400e-01,   1.07096345e+00,  -4.46951993e-01,\n",
       "          4.13866892e-01,   1.19552516e+00,   4.20341666e-01,\n",
       "         -5.29806068e-01,  -1.13389342e+00,   1.13389342e+00]])"
      ]
     },
     "execution_count": 28,
     "metadata": {},
     "output_type": "execute_result"
    }
   ],
   "source": [
    "# Converts all values to z-statistic with mean = 0 and unit variance\n",
    "std_scalar.fit_transform(final_df)  # Returns Numpy array "
   ]
  },
  {
   "cell_type": "code",
   "execution_count": 29,
   "metadata": {},
   "outputs": [],
   "source": [
    "dataframe_standardized = pd.DataFrame(std_scalar.fit_transform(final_df), \n",
    "                                     columns= final_df.columns, index = final_df.index)"
   ]
  },
  {
   "cell_type": "code",
   "execution_count": 30,
   "metadata": {},
   "outputs": [
    {
     "data": {
      "text/html": [
       "<div>\n",
       "<table border=\"1\" class=\"dataframe\">\n",
       "  <thead>\n",
       "    <tr style=\"text-align: right;\">\n",
       "      <th></th>\n",
       "      <th>mpg</th>\n",
       "      <th>cyl</th>\n",
       "      <th>disp</th>\n",
       "      <th>hp</th>\n",
       "      <th>drat</th>\n",
       "      <th>wt</th>\n",
       "      <th>qsec</th>\n",
       "      <th>am</th>\n",
       "      <th>gear</th>\n",
       "      <th>carb</th>\n",
       "      <th>vs_V-shaped</th>\n",
       "      <th>vs_straight</th>\n",
       "    </tr>\n",
       "    <tr>\n",
       "      <th></th>\n",
       "      <th></th>\n",
       "      <th></th>\n",
       "      <th></th>\n",
       "      <th></th>\n",
       "      <th></th>\n",
       "      <th></th>\n",
       "      <th></th>\n",
       "      <th></th>\n",
       "      <th></th>\n",
       "      <th></th>\n",
       "      <th></th>\n",
       "      <th></th>\n",
       "    </tr>\n",
       "  </thead>\n",
       "  <tbody>\n",
       "    <tr>\n",
       "      <th>Mazda RX4</th>\n",
       "      <td>0.153299</td>\n",
       "      <td>-0.106668</td>\n",
       "      <td>-0.556744</td>\n",
       "      <td>-0.543655</td>\n",
       "      <td>0.654726</td>\n",
       "      <td>-0.613235</td>\n",
       "      <td>-0.806939</td>\n",
       "      <td>1.195525</td>\n",
       "      <td>0.420342</td>\n",
       "      <td>0.733578</td>\n",
       "      <td>0.881917</td>\n",
       "      <td>-0.881917</td>\n",
       "    </tr>\n",
       "    <tr>\n",
       "      <th>Mazda RX4 Wag</th>\n",
       "      <td>0.153299</td>\n",
       "      <td>-0.106668</td>\n",
       "      <td>-0.556744</td>\n",
       "      <td>-0.543655</td>\n",
       "      <td>0.654726</td>\n",
       "      <td>-0.348222</td>\n",
       "      <td>-0.487476</td>\n",
       "      <td>1.195525</td>\n",
       "      <td>0.420342</td>\n",
       "      <td>0.733578</td>\n",
       "      <td>0.881917</td>\n",
       "      <td>-0.881917</td>\n",
       "    </tr>\n",
       "    <tr>\n",
       "      <th>Datsun 710</th>\n",
       "      <td>0.456737</td>\n",
       "      <td>-1.244457</td>\n",
       "      <td>-0.989865</td>\n",
       "      <td>-0.795570</td>\n",
       "      <td>0.555622</td>\n",
       "      <td>-0.925015</td>\n",
       "      <td>0.419572</td>\n",
       "      <td>1.195525</td>\n",
       "      <td>0.420342</td>\n",
       "      <td>-1.161498</td>\n",
       "      <td>-1.133893</td>\n",
       "      <td>1.133893</td>\n",
       "    </tr>\n",
       "    <tr>\n",
       "      <th>Hornet 4 Drive</th>\n",
       "      <td>0.220730</td>\n",
       "      <td>-0.106668</td>\n",
       "      <td>0.259523</td>\n",
       "      <td>-0.543655</td>\n",
       "      <td>-0.970581</td>\n",
       "      <td>0.005129</td>\n",
       "      <td>0.893062</td>\n",
       "      <td>-0.863435</td>\n",
       "      <td>-0.980797</td>\n",
       "      <td>-1.161498</td>\n",
       "      <td>-1.133893</td>\n",
       "      <td>1.133893</td>\n",
       "    </tr>\n",
       "    <tr>\n",
       "      <th>Hornet Sportabout</th>\n",
       "      <td>-0.234427</td>\n",
       "      <td>1.031121</td>\n",
       "      <td>1.109108</td>\n",
       "      <td>0.419550</td>\n",
       "      <td>-0.831835</td>\n",
       "      <td>0.238964</td>\n",
       "      <td>-0.487476</td>\n",
       "      <td>-0.863435</td>\n",
       "      <td>-0.980797</td>\n",
       "      <td>-0.529806</td>\n",
       "      <td>0.881917</td>\n",
       "      <td>-0.881917</td>\n",
       "    </tr>\n",
       "  </tbody>\n",
       "</table>\n",
       "</div>"
      ],
      "text/plain": [
       "                        mpg       cyl      disp        hp      drat        wt  \\\n",
       "                                                                                \n",
       "Mazda RX4          0.153299 -0.106668 -0.556744 -0.543655  0.654726 -0.613235   \n",
       "Mazda RX4 Wag      0.153299 -0.106668 -0.556744 -0.543655  0.654726 -0.348222   \n",
       "Datsun 710         0.456737 -1.244457 -0.989865 -0.795570  0.555622 -0.925015   \n",
       "Hornet 4 Drive     0.220730 -0.106668  0.259523 -0.543655 -0.970581  0.005129   \n",
       "Hornet Sportabout -0.234427  1.031121  1.109108  0.419550 -0.831835  0.238964   \n",
       "\n",
       "                       qsec        am      gear      carb  vs_V-shaped  \\\n",
       "                                                                         \n",
       "Mazda RX4         -0.806939  1.195525  0.420342  0.733578     0.881917   \n",
       "Mazda RX4 Wag     -0.487476  1.195525  0.420342  0.733578     0.881917   \n",
       "Datsun 710         0.419572  1.195525  0.420342 -1.161498    -1.133893   \n",
       "Hornet 4 Drive     0.893062 -0.863435 -0.980797 -1.161498    -1.133893   \n",
       "Hornet Sportabout -0.487476 -0.863435 -0.980797 -0.529806     0.881917   \n",
       "\n",
       "                   vs_straight  \n",
       "                                \n",
       "Mazda RX4            -0.881917  \n",
       "Mazda RX4 Wag        -0.881917  \n",
       "Datsun 710            1.133893  \n",
       "Hornet 4 Drive        1.133893  \n",
       "Hornet Sportabout    -0.881917  "
      ]
     },
     "execution_count": 30,
     "metadata": {},
     "output_type": "execute_result"
    }
   ],
   "source": [
    "dataframe_standardized.head()"
   ]
  }
 ],
 "metadata": {
  "kernelspec": {
   "display_name": "Python 2",
   "language": "python",
   "name": "python2"
  },
  "language_info": {
   "codemirror_mode": {
    "name": "ipython",
    "version": 2
   },
   "file_extension": ".py",
   "mimetype": "text/x-python",
   "name": "python",
   "nbconvert_exporter": "python",
   "pygments_lexer": "ipython2",
   "version": "2.7.13"
  }
 },
 "nbformat": 4,
 "nbformat_minor": 2
}
